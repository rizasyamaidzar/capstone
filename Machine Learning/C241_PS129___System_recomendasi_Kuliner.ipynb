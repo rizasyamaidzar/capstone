{
  "cells": [
    {
      "cell_type": "markdown",
      "metadata": {
        "id": "F81vEpMxFkE8"
      },
      "source": [
        "#Data Preparation"
      ]
    },
    {
      "cell_type": "markdown",
      "metadata": {
        "id": "S-2K4saSHWii"
      },
      "source": [
        "Install dan import package"
      ]
    },
    {
      "cell_type": "code",
      "execution_count": 1,
      "metadata": {
        "id": "F6rHjkDKG4RW"
      },
      "outputs": [],
      "source": [
        "import pandas as pd\n",
        "import numpy as np\n",
        "import tensorflow as tf\n",
        "from sklearn.model_selection import train_test_split\n",
        "from sklearn.preprocessing import LabelEncoder\n",
        "from sklearn.feature_extraction.text import TfidfVectorizer\n",
        "from sklearn.metrics.pairwise import cosine_similarity"
      ]
    },
    {
      "cell_type": "markdown",
      "metadata": {
        "id": "GpkwM_u4H3Ib"
      },
      "source": [
        "Read Dataset"
      ]
    },
    {
      "cell_type": "code",
      "execution_count": 2,
      "metadata": {
        "colab": {
          "base_uri": "https://localhost:8080/"
        },
        "id": "UxGykiwmHGXH",
        "outputId": "c9d316e8-60e2-45ae-a1a9-73732e9fc55f"
      },
      "outputs": [
        {
          "output_type": "stream",
          "name": "stdout",
          "text": [
            "  resto_id                                      nama_restoran  \\\n",
            "0   RT01J1                Mie Bandung Chinese Food, Ngampilan   \n",
            "1   RT02J1  Soto Tauco Pekalongan Bu Iswi, Jalan Bimokurdo...   \n",
            "2   RT03J1                  Bakso Urat dan Mie Ayam \"Pak Mir\"   \n",
            "3   RT04J1  Soto Ayam Kampung Dan Soto Daging Sapi Pak Gendut   \n",
            "4   RT05J1                                          Toba Tabo   \n",
            "\n",
            "  preferensi_makanan lokasi_restoran  Harga_Rata-Rata_Makanan_di_Toko (Rp)  \\\n",
            "0            Chinese         3.23 km                                 39000   \n",
            "1          Indonesia         3.01 km                                 19000   \n",
            "2          Indonesia         1.44 km                                 18000   \n",
            "3          Indonesia         0.83 km                                 22000   \n",
            "4            Chinese         2.13 km                                 40000   \n",
            "\n",
            "   rating_toko jenis_suasana toko_sering_diskon_(Ya/Tidak)  \\\n",
            "0          4.7        Santai                         Tidak   \n",
            "1          3.7        Santai                         Tidak   \n",
            "2          3.6        Santai                         Tidak   \n",
            "3          3.8        Santai                         Tidak   \n",
            "4          4.7        Santai                         Tidak   \n",
            "\n",
            "                                     variasi_makanan  \\\n",
            "0  Bakmi, Nasi Goreng, Mie Ayam, Kwetiaw, Bakso P...   \n",
            "1  Bakso, Soto Tauco, Lontong, Es Teh, Es Jeruk, ...   \n",
            "2         Bakso, Sop Ayam, Jajanan, Es Jeruk, Es Teh   \n",
            "3  Soto Daging, Soto Ayam, Perkedel, Es Teh, Es J...   \n",
            "4  Sate Babi, Babi Kecap, Bakmi Babi, Kopi, Es Ko...   \n",
            "\n",
            "  pelayanan_khusus_pasangan_(Ya/Tidak)  entertainment  keramaian_restoran  \\\n",
            "0                                Tidak              3                   3   \n",
            "1                                Tidak              2                   2   \n",
            "2                                Tidak              2                   2   \n",
            "3                                Tidak              1                   2   \n",
            "4                                Tidak              1                   3   \n",
            "\n",
            "  disajikan/ambil_sendiri all_you_can_eat/ala_carte  \\\n",
            "0               Disajikan                 Ala Carte   \n",
            "1               Disajikan                 Ala Carte   \n",
            "2               Disajikan                 Ala Carte   \n",
            "3               Disajikan                 Ala Carte   \n",
            "4               Disajikan                 Ala Carte   \n",
            "\n",
            "                                      Lokasi  \n",
            "0  https://maps.app.goo.gl/yEFoAbWDFhBcanBZ9  \n",
            "1  https://maps.app.goo.gl/j9gT3yrbncuXKaC48  \n",
            "2  https://maps.app.goo.gl/HLC7w9tvJ9wzLMNWA  \n",
            "3  https://maps.app.goo.gl/rfywQEnYXS61CDRj6  \n",
            "4  https://maps.app.goo.gl/oJM1xoJi1ttNvh9r7  \n",
            "  mami_id makanan/minuman      kategori   \\\n",
            "0  MKJ001    Sate Klathak  Makanan Berat   \n",
            "1  MKJ002    Soto Kambing  Makanan Berat   \n",
            "2  MKJ003    Sate Kambing  Makanan Berat   \n",
            "3  MKJ004     Wedang Uwuh        Minuman   \n",
            "4  MKJ005          Bakpia        Jajanan   \n",
            "\n",
            "                                deskripsi_rasa  \\\n",
            "0                   Gurih, pedas, juicy, smoky   \n",
            "1  Gurih, pedas, rempah, segar, lezat, berkuah   \n",
            "2      Gurih, pedas, juicy, smoky, asin, manis   \n",
            "3                 Manis, hangat, rempah, segar   \n",
            "4                 Manis, lembut, gurih, kacang   \n",
            "\n",
            "                                                foto  \n",
            "0  https://storage.googleapis.com/c241-ps129-4268...  \n",
            "1  https://storage.googleapis.com/c241-ps129-4268...  \n",
            "2  https://storage.googleapis.com/c241-ps129-4268...  \n",
            "3  https://storage.googleapis.com/c241-ps129-4268...  \n",
            "4  https://storage.googleapis.com/c241-ps129-4268...  \n"
          ]
        }
      ],
      "source": [
        "data_restaurant=\"https://docs.google.com/spreadsheets/d/e/2PACX-1vTyCBQxA1HyRnQWj-RXf-_5DXKn3L90Td0aO5r8DsTtE7pO3IQbPVvcuhfaCmJvTwiD_Hhvw34Xzbya/pub?gid=2129966204&single=true&output=csv\"\n",
        "data_makanminum=\"https://docs.google.com/spreadsheets/d/e/2PACX-1vTyCBQxA1HyRnQWj-RXf-_5DXKn3L90Td0aO5r8DsTtE7pO3IQbPVvcuhfaCmJvTwiD_Hhvw34Xzbya/pub?gid=477290477&single=true&output=csv\"\n",
        "\n",
        "# membaca kedua sheet ke dalam DataFrame\n",
        "data_resto = pd.read_csv(data_restaurant)\n",
        "data_makmin = pd.read_csv(data_makanminum)\n",
        "\n",
        "print(data_resto.head())\n",
        "print(data_makmin.head())"
      ]
    },
    {
      "cell_type": "markdown",
      "metadata": {
        "id": "w38DLQE_acUO"
      },
      "source": [
        "Memilih kolom yang digunakan"
      ]
    },
    {
      "cell_type": "code",
      "execution_count": 3,
      "metadata": {
        "colab": {
          "base_uri": "https://localhost:8080/"
        },
        "id": "PPDq-hBoa_5n",
        "outputId": "b7cc3049-5890-4b08-b2ed-0292882243e4"
      },
      "outputs": [
        {
          "output_type": "stream",
          "name": "stdout",
          "text": [
            "\n",
            "Dataset dengan kolom terpilih:\n",
            "  makanan/minuman       kategori                               deskripsi_rasa\n",
            "0    Sate Klathak  Makanan Berat                   Gurih, pedas, juicy, smoky\n",
            "1    Soto Kambing  Makanan Berat  Gurih, pedas, rempah, segar, lezat, berkuah\n",
            "2    Sate Kambing  Makanan Berat      Gurih, pedas, juicy, smoky, asin, manis\n",
            "3     Wedang Uwuh        Minuman                 Manis, hangat, rempah, segar\n",
            "4          Bakpia        Jajanan                 Manis, lembut, gurih, kacang\n"
          ]
        }
      ],
      "source": [
        "data_makmin.columns = data_makmin.columns.str.strip()\n",
        "\n",
        "columns_to_select = ['makanan/minuman', 'kategori', 'deskripsi_rasa']\n",
        "makanan_data = data_makmin[columns_to_select]\n",
        "\n",
        "print(\"\\nDataset dengan kolom terpilih:\")\n",
        "print(makanan_data.head())"
      ]
    },
    {
      "cell_type": "code",
      "execution_count": 4,
      "metadata": {
        "colab": {
          "base_uri": "https://localhost:8080/"
        },
        "id": "tXhQS8QdJB6u",
        "outputId": "1d88eaea-9bf3-4a61-a2d4-b7eae22846e9"
      },
      "outputs": [
        {
          "output_type": "stream",
          "name": "stdout",
          "text": [
            "\n",
            "Dataset dengan kolom terpilih:\n",
            "                                       nama_restoran  rating_toko  \\\n",
            "0                Mie Bandung Chinese Food, Ngampilan          4.7   \n",
            "1  Soto Tauco Pekalongan Bu Iswi, Jalan Bimokurdo...          3.7   \n",
            "2                  Bakso Urat dan Mie Ayam \"Pak Mir\"          3.6   \n",
            "3  Soto Ayam Kampung Dan Soto Daging Sapi Pak Gendut          3.8   \n",
            "4                                          Toba Tabo          4.7   \n",
            "\n",
            "                                     variasi_makanan  \n",
            "0  Bakmi, Nasi Goreng, Mie Ayam, Kwetiaw, Bakso P...  \n",
            "1  Bakso, Soto Tauco, Lontong, Es Teh, Es Jeruk, ...  \n",
            "2         Bakso, Sop Ayam, Jajanan, Es Jeruk, Es Teh  \n",
            "3  Soto Daging, Soto Ayam, Perkedel, Es Teh, Es J...  \n",
            "4  Sate Babi, Babi Kecap, Bakmi Babi, Kopi, Es Ko...  \n"
          ]
        }
      ],
      "source": [
        "#memilih kolom sheet data restoran\n",
        "data_resto.columns = data_resto.columns.str.strip()\n",
        "\n",
        "columns_select = ['nama_restoran', 'rating_toko', 'variasi_makanan']\n",
        "restoran_data = data_resto[columns_select]\n",
        "\n",
        "print(\"\\nDataset dengan kolom terpilih:\")\n",
        "print(restoran_data.head())"
      ]
    },
    {
      "cell_type": "markdown",
      "source": [
        "Pre processing"
      ],
      "metadata": {
        "id": "vfE3pH8XFRkH"
      }
    },
    {
      "cell_type": "code",
      "source": [
        "# Menangani nilai NaN dalam kolom 'deskripsi_rasa'\n",
        "makanan_data['deskripsi_rasa'].fillna('', inplace=True)\n",
        "\n",
        "# Encoding kategori makanan\n",
        "label_encoder = LabelEncoder()\n",
        "makanan_data['kategori_Encoded'] = label_encoder.fit_transform(makanan_data['kategori'])\n",
        "\n",
        "# Membagi dataset menjadi data latih dan data uji\n",
        "X_train, X_test, y_train, y_test = train_test_split(makanan_data['deskripsi_rasa'],\n",
        "                                                    makanan_data['kategori_Encoded'],\n",
        "                                                    test_size=0.2, random_state=42)\n",
        "\n",
        "# Membuat vektor fitur dari deskripsi rasa menggunakan TfidfVectorizer\n",
        "vectorizer = TfidfVectorizer()\n",
        "X_train_vec = vectorizer.fit_transform(X_train).toarray()  # Konversi ke bentuk array\n",
        "X_test_vec = vectorizer.transform(X_test).toarray() # Konversi ke bentuk array"
      ],
      "metadata": {
        "id": "Kr2-9UtMFWz9",
        "colab": {
          "base_uri": "https://localhost:8080/"
        },
        "outputId": "e09bd5b5-3038-411e-c58e-88fdd1fc468a"
      },
      "execution_count": 5,
      "outputs": [
        {
          "output_type": "stream",
          "name": "stderr",
          "text": [
            "<ipython-input-5-467fe049e757>:2: SettingWithCopyWarning: \n",
            "A value is trying to be set on a copy of a slice from a DataFrame\n",
            "\n",
            "See the caveats in the documentation: https://pandas.pydata.org/pandas-docs/stable/user_guide/indexing.html#returning-a-view-versus-a-copy\n",
            "  makanan_data['deskripsi_rasa'].fillna('', inplace=True)\n",
            "<ipython-input-5-467fe049e757>:6: SettingWithCopyWarning: \n",
            "A value is trying to be set on a copy of a slice from a DataFrame.\n",
            "Try using .loc[row_indexer,col_indexer] = value instead\n",
            "\n",
            "See the caveats in the documentation: https://pandas.pydata.org/pandas-docs/stable/user_guide/indexing.html#returning-a-view-versus-a-copy\n",
            "  makanan_data['kategori_Encoded'] = label_encoder.fit_transform(makanan_data['kategori'])\n"
          ]
        }
      ]
    },
    {
      "cell_type": "markdown",
      "metadata": {
        "id": "e2WauhY9GPmV"
      },
      "source": [
        "# Membangun model rekomendasi makanan bedasarkan deskripsi rasa"
      ]
    },
    {
      "cell_type": "code",
      "execution_count": 6,
      "metadata": {
        "id": "3rdm1qRgerxp"
      },
      "outputs": [],
      "source": [
        "# Membangun model\n",
        "model = tf.keras.Sequential([\n",
        "    tf.keras.layers.Dense(256, activation='relu', input_shape=(X_train_vec.shape[1],)),\n",
        "    tf.keras.layers.Dropout(0.5),\n",
        "    tf.keras.layers.Dense(128, activation='relu'),\n",
        "    tf.keras.layers.Dropout(0.5),\n",
        "    tf.keras.layers.Dense(64, activation='relu'),\n",
        "    tf.keras.layers.Dropout(0.5),\n",
        "    tf.keras.layers.Dense(len(label_encoder.classes_), activation='softmax')\n",
        "])"
      ]
    },
    {
      "cell_type": "code",
      "execution_count": 7,
      "metadata": {
        "id": "puZMwor3evaU"
      },
      "outputs": [],
      "source": [
        "# Create and compile the model\n",
        "model.compile(optimizer='adam',\n",
        "              loss='sparse_categorical_crossentropy',\n",
        "              metrics=['accuracy'])"
      ]
    },
    {
      "cell_type": "code",
      "execution_count": 8,
      "metadata": {
        "colab": {
          "base_uri": "https://localhost:8080/"
        },
        "id": "lj1xj2Twe2yp",
        "outputId": "e9c2ff0a-e5c4-42aa-b750-21d05f9a5fb6"
      },
      "outputs": [
        {
          "output_type": "stream",
          "name": "stdout",
          "text": [
            "Epoch 1/100\n",
            "7/7 [==============================] - 3s 110ms/step - loss: 1.9327 - accuracy: 0.1869 - val_loss: 1.8867 - val_accuracy: 0.4400\n",
            "Epoch 2/100\n",
            "7/7 [==============================] - 0s 23ms/step - loss: 1.8261 - accuracy: 0.4091 - val_loss: 1.7901 - val_accuracy: 0.4400\n",
            "Epoch 3/100\n",
            "7/7 [==============================] - 0s 22ms/step - loss: 1.6947 - accuracy: 0.4949 - val_loss: 1.6595 - val_accuracy: 0.4400\n",
            "Epoch 4/100\n",
            "7/7 [==============================] - 0s 14ms/step - loss: 1.5606 - accuracy: 0.4697 - val_loss: 1.5146 - val_accuracy: 0.4400\n",
            "Epoch 5/100\n",
            "7/7 [==============================] - 0s 16ms/step - loss: 1.4296 - accuracy: 0.5000 - val_loss: 1.4166 - val_accuracy: 0.4400\n",
            "Epoch 6/100\n",
            "7/7 [==============================] - 0s 15ms/step - loss: 1.3300 - accuracy: 0.5051 - val_loss: 1.3604 - val_accuracy: 0.4400\n",
            "Epoch 7/100\n",
            "7/7 [==============================] - 0s 26ms/step - loss: 1.3149 - accuracy: 0.5051 - val_loss: 1.3082 - val_accuracy: 0.4400\n",
            "Epoch 8/100\n",
            "7/7 [==============================] - 0s 20ms/step - loss: 1.2518 - accuracy: 0.5253 - val_loss: 1.2547 - val_accuracy: 0.4400\n",
            "Epoch 9/100\n",
            "7/7 [==============================] - 0s 18ms/step - loss: 1.2157 - accuracy: 0.5505 - val_loss: 1.2141 - val_accuracy: 0.4400\n",
            "Epoch 10/100\n",
            "7/7 [==============================] - 0s 19ms/step - loss: 1.1480 - accuracy: 0.5556 - val_loss: 1.1695 - val_accuracy: 0.5400\n",
            "Epoch 11/100\n",
            "7/7 [==============================] - 0s 19ms/step - loss: 1.1621 - accuracy: 0.5707 - val_loss: 1.1275 - val_accuracy: 0.6200\n",
            "Epoch 12/100\n",
            "7/7 [==============================] - 0s 16ms/step - loss: 1.1002 - accuracy: 0.5909 - val_loss: 1.0922 - val_accuracy: 0.6600\n",
            "Epoch 13/100\n",
            "7/7 [==============================] - 0s 16ms/step - loss: 1.0683 - accuracy: 0.6566 - val_loss: 1.0592 - val_accuracy: 0.6800\n",
            "Epoch 14/100\n",
            "7/7 [==============================] - 0s 22ms/step - loss: 1.0148 - accuracy: 0.6717 - val_loss: 0.9993 - val_accuracy: 0.7200\n",
            "Epoch 15/100\n",
            "7/7 [==============================] - 0s 15ms/step - loss: 0.9651 - accuracy: 0.6768 - val_loss: 0.9566 - val_accuracy: 0.7600\n",
            "Epoch 16/100\n",
            "7/7 [==============================] - 0s 47ms/step - loss: 0.9036 - accuracy: 0.7121 - val_loss: 0.9205 - val_accuracy: 0.7400\n",
            "Epoch 17/100\n",
            "7/7 [==============================] - 0s 17ms/step - loss: 0.9022 - accuracy: 0.7172 - val_loss: 0.8945 - val_accuracy: 0.7400\n",
            "Epoch 18/100\n",
            "7/7 [==============================] - 0s 31ms/step - loss: 0.8571 - accuracy: 0.7525 - val_loss: 0.8744 - val_accuracy: 0.7400\n",
            "Epoch 19/100\n",
            "7/7 [==============================] - 0s 33ms/step - loss: 0.8008 - accuracy: 0.7525 - val_loss: 0.8591 - val_accuracy: 0.7400\n",
            "Epoch 20/100\n",
            "7/7 [==============================] - 0s 21ms/step - loss: 0.7562 - accuracy: 0.7677 - val_loss: 0.8523 - val_accuracy: 0.7400\n",
            "Epoch 21/100\n",
            "7/7 [==============================] - 0s 13ms/step - loss: 0.6991 - accuracy: 0.7929 - val_loss: 0.8536 - val_accuracy: 0.7400\n",
            "Epoch 22/100\n",
            "7/7 [==============================] - 0s 16ms/step - loss: 0.7346 - accuracy: 0.7828 - val_loss: 0.8473 - val_accuracy: 0.7400\n",
            "Epoch 23/100\n",
            "7/7 [==============================] - 0s 12ms/step - loss: 0.7034 - accuracy: 0.7929 - val_loss: 0.8468 - val_accuracy: 0.7400\n",
            "Epoch 24/100\n",
            "7/7 [==============================] - 0s 12ms/step - loss: 0.6459 - accuracy: 0.8081 - val_loss: 0.8541 - val_accuracy: 0.7400\n",
            "Epoch 25/100\n",
            "7/7 [==============================] - 0s 19ms/step - loss: 0.6943 - accuracy: 0.8081 - val_loss: 0.8507 - val_accuracy: 0.7400\n",
            "Epoch 26/100\n",
            "7/7 [==============================] - 0s 17ms/step - loss: 0.5987 - accuracy: 0.8232 - val_loss: 0.8478 - val_accuracy: 0.7400\n",
            "Epoch 27/100\n",
            "7/7 [==============================] - 0s 12ms/step - loss: 0.6619 - accuracy: 0.8030 - val_loss: 0.8508 - val_accuracy: 0.7400\n",
            "Epoch 28/100\n",
            "7/7 [==============================] - 0s 14ms/step - loss: 0.5369 - accuracy: 0.8434 - val_loss: 0.8429 - val_accuracy: 0.7400\n",
            "Epoch 29/100\n",
            "7/7 [==============================] - 0s 12ms/step - loss: 0.5518 - accuracy: 0.8434 - val_loss: 0.8301 - val_accuracy: 0.7400\n",
            "Epoch 30/100\n",
            "7/7 [==============================] - 0s 16ms/step - loss: 0.5560 - accuracy: 0.8131 - val_loss: 0.8368 - val_accuracy: 0.7400\n",
            "Epoch 31/100\n",
            "7/7 [==============================] - 0s 17ms/step - loss: 0.5332 - accuracy: 0.8586 - val_loss: 0.8493 - val_accuracy: 0.7400\n",
            "Epoch 32/100\n",
            "7/7 [==============================] - 0s 17ms/step - loss: 0.5493 - accuracy: 0.8333 - val_loss: 0.8537 - val_accuracy: 0.7600\n",
            "Epoch 33/100\n",
            "7/7 [==============================] - 0s 16ms/step - loss: 0.4854 - accuracy: 0.8434 - val_loss: 0.8779 - val_accuracy: 0.7600\n",
            "Epoch 34/100\n",
            "7/7 [==============================] - 0s 15ms/step - loss: 0.4602 - accuracy: 0.8434 - val_loss: 0.8992 - val_accuracy: 0.7600\n",
            "Epoch 35/100\n",
            "7/7 [==============================] - 0s 20ms/step - loss: 0.4667 - accuracy: 0.8586 - val_loss: 0.9013 - val_accuracy: 0.7600\n",
            "Epoch 36/100\n",
            "7/7 [==============================] - 0s 15ms/step - loss: 0.5271 - accuracy: 0.8384 - val_loss: 0.9070 - val_accuracy: 0.7600\n",
            "Epoch 37/100\n",
            "7/7 [==============================] - 0s 15ms/step - loss: 0.5194 - accuracy: 0.8434 - val_loss: 0.8918 - val_accuracy: 0.7600\n",
            "Epoch 38/100\n",
            "7/7 [==============================] - 0s 15ms/step - loss: 0.4863 - accuracy: 0.8687 - val_loss: 0.8966 - val_accuracy: 0.7600\n",
            "Epoch 39/100\n",
            "7/7 [==============================] - 0s 14ms/step - loss: 0.4655 - accuracy: 0.8586 - val_loss: 0.9121 - val_accuracy: 0.7800\n",
            "Epoch 40/100\n",
            "7/7 [==============================] - 0s 15ms/step - loss: 0.4738 - accuracy: 0.8535 - val_loss: 0.9082 - val_accuracy: 0.8000\n",
            "Epoch 41/100\n",
            "7/7 [==============================] - 0s 15ms/step - loss: 0.4762 - accuracy: 0.8485 - val_loss: 0.9048 - val_accuracy: 0.7600\n",
            "Epoch 42/100\n",
            "7/7 [==============================] - 0s 18ms/step - loss: 0.4059 - accuracy: 0.8737 - val_loss: 0.9147 - val_accuracy: 0.7600\n",
            "Epoch 43/100\n",
            "7/7 [==============================] - 0s 15ms/step - loss: 0.4551 - accuracy: 0.8434 - val_loss: 0.9179 - val_accuracy: 0.7600\n",
            "Epoch 44/100\n",
            "7/7 [==============================] - 0s 14ms/step - loss: 0.4179 - accuracy: 0.8586 - val_loss: 0.9447 - val_accuracy: 0.7800\n",
            "Epoch 45/100\n",
            "7/7 [==============================] - 0s 16ms/step - loss: 0.4519 - accuracy: 0.8485 - val_loss: 0.9632 - val_accuracy: 0.7600\n",
            "Epoch 46/100\n",
            "7/7 [==============================] - 0s 11ms/step - loss: 0.4414 - accuracy: 0.8586 - val_loss: 0.9426 - val_accuracy: 0.7600\n",
            "Epoch 47/100\n",
            "7/7 [==============================] - 0s 8ms/step - loss: 0.4096 - accuracy: 0.8687 - val_loss: 0.9373 - val_accuracy: 0.7600\n",
            "Epoch 48/100\n",
            "7/7 [==============================] - 0s 8ms/step - loss: 0.4093 - accuracy: 0.8737 - val_loss: 0.9449 - val_accuracy: 0.7600\n",
            "Epoch 49/100\n",
            "7/7 [==============================] - 0s 11ms/step - loss: 0.4104 - accuracy: 0.8737 - val_loss: 0.9751 - val_accuracy: 0.7600\n",
            "Epoch 50/100\n",
            "7/7 [==============================] - 0s 11ms/step - loss: 0.4110 - accuracy: 0.8737 - val_loss: 0.9871 - val_accuracy: 0.7600\n",
            "Epoch 51/100\n",
            "7/7 [==============================] - 0s 12ms/step - loss: 0.4269 - accuracy: 0.8636 - val_loss: 0.9858 - val_accuracy: 0.7800\n",
            "Epoch 52/100\n",
            "7/7 [==============================] - 0s 9ms/step - loss: 0.4018 - accuracy: 0.8636 - val_loss: 1.0021 - val_accuracy: 0.7800\n",
            "Epoch 53/100\n",
            "7/7 [==============================] - 0s 11ms/step - loss: 0.3775 - accuracy: 0.8586 - val_loss: 0.9973 - val_accuracy: 0.7800\n",
            "Epoch 54/100\n",
            "7/7 [==============================] - 0s 12ms/step - loss: 0.3982 - accuracy: 0.8636 - val_loss: 0.9705 - val_accuracy: 0.7800\n",
            "Epoch 55/100\n",
            "7/7 [==============================] - 0s 12ms/step - loss: 0.3840 - accuracy: 0.8737 - val_loss: 0.9813 - val_accuracy: 0.8000\n",
            "Epoch 56/100\n",
            "7/7 [==============================] - 0s 11ms/step - loss: 0.3623 - accuracy: 0.8586 - val_loss: 1.0080 - val_accuracy: 0.8000\n",
            "Epoch 57/100\n",
            "7/7 [==============================] - 0s 11ms/step - loss: 0.3768 - accuracy: 0.8636 - val_loss: 1.0373 - val_accuracy: 0.7800\n",
            "Epoch 58/100\n",
            "7/7 [==============================] - 0s 8ms/step - loss: 0.3347 - accuracy: 0.8838 - val_loss: 1.0418 - val_accuracy: 0.7800\n",
            "Epoch 59/100\n",
            "7/7 [==============================] - 0s 11ms/step - loss: 0.3373 - accuracy: 0.8889 - val_loss: 1.0501 - val_accuracy: 0.8000\n",
            "Epoch 60/100\n",
            "7/7 [==============================] - 0s 12ms/step - loss: 0.3764 - accuracy: 0.8687 - val_loss: 1.0655 - val_accuracy: 0.8000\n",
            "Epoch 61/100\n",
            "7/7 [==============================] - 0s 9ms/step - loss: 0.3269 - accuracy: 0.8838 - val_loss: 1.0614 - val_accuracy: 0.7800\n",
            "Epoch 62/100\n",
            "7/7 [==============================] - 0s 9ms/step - loss: 0.3200 - accuracy: 0.8737 - val_loss: 1.0786 - val_accuracy: 0.7800\n",
            "Epoch 63/100\n",
            "7/7 [==============================] - 0s 9ms/step - loss: 0.4022 - accuracy: 0.8737 - val_loss: 1.0944 - val_accuracy: 0.8000\n",
            "Epoch 64/100\n",
            "7/7 [==============================] - 0s 12ms/step - loss: 0.3702 - accuracy: 0.8586 - val_loss: 1.0675 - val_accuracy: 0.8000\n",
            "Epoch 65/100\n",
            "7/7 [==============================] - 0s 11ms/step - loss: 0.3472 - accuracy: 0.8687 - val_loss: 1.0873 - val_accuracy: 0.7600\n",
            "Epoch 66/100\n",
            "7/7 [==============================] - 0s 11ms/step - loss: 0.3443 - accuracy: 0.8737 - val_loss: 1.1135 - val_accuracy: 0.8000\n",
            "Epoch 67/100\n",
            "7/7 [==============================] - 0s 9ms/step - loss: 0.3215 - accuracy: 0.8737 - val_loss: 1.1252 - val_accuracy: 0.8000\n",
            "Epoch 68/100\n",
            "7/7 [==============================] - 0s 11ms/step - loss: 0.3376 - accuracy: 0.8687 - val_loss: 1.1470 - val_accuracy: 0.8000\n",
            "Epoch 69/100\n",
            "7/7 [==============================] - 0s 12ms/step - loss: 0.3057 - accuracy: 0.8939 - val_loss: 1.1321 - val_accuracy: 0.7800\n",
            "Epoch 70/100\n",
            "7/7 [==============================] - 0s 11ms/step - loss: 0.3451 - accuracy: 0.8788 - val_loss: 1.1330 - val_accuracy: 0.7800\n",
            "Epoch 71/100\n",
            "7/7 [==============================] - 0s 14ms/step - loss: 0.3509 - accuracy: 0.8788 - val_loss: 1.1622 - val_accuracy: 0.7800\n",
            "Epoch 72/100\n",
            "7/7 [==============================] - 0s 9ms/step - loss: 0.3000 - accuracy: 0.8687 - val_loss: 1.1691 - val_accuracy: 0.7800\n",
            "Epoch 73/100\n",
            "7/7 [==============================] - 0s 11ms/step - loss: 0.2782 - accuracy: 0.8788 - val_loss: 1.1890 - val_accuracy: 0.7800\n",
            "Epoch 74/100\n",
            "7/7 [==============================] - 0s 8ms/step - loss: 0.3115 - accuracy: 0.8737 - val_loss: 1.1974 - val_accuracy: 0.7800\n",
            "Epoch 75/100\n",
            "7/7 [==============================] - 0s 11ms/step - loss: 0.3349 - accuracy: 0.8838 - val_loss: 1.1946 - val_accuracy: 0.7800\n",
            "Epoch 76/100\n",
            "7/7 [==============================] - 0s 11ms/step - loss: 0.2839 - accuracy: 0.8990 - val_loss: 1.2015 - val_accuracy: 0.7800\n",
            "Epoch 77/100\n",
            "7/7 [==============================] - 0s 11ms/step - loss: 0.2824 - accuracy: 0.8737 - val_loss: 1.2319 - val_accuracy: 0.7800\n",
            "Epoch 78/100\n",
            "7/7 [==============================] - 0s 11ms/step - loss: 0.2924 - accuracy: 0.9091 - val_loss: 1.2716 - val_accuracy: 0.7800\n",
            "Epoch 79/100\n",
            "7/7 [==============================] - 0s 9ms/step - loss: 0.3018 - accuracy: 0.8889 - val_loss: 1.2894 - val_accuracy: 0.7800\n",
            "Epoch 80/100\n",
            "7/7 [==============================] - 0s 9ms/step - loss: 0.2674 - accuracy: 0.8687 - val_loss: 1.2711 - val_accuracy: 0.7600\n",
            "Epoch 81/100\n",
            "7/7 [==============================] - 0s 11ms/step - loss: 0.3389 - accuracy: 0.8838 - val_loss: 1.2019 - val_accuracy: 0.7800\n",
            "Epoch 82/100\n",
            "7/7 [==============================] - 0s 14ms/step - loss: 0.2926 - accuracy: 0.8687 - val_loss: 1.1905 - val_accuracy: 0.7800\n",
            "Epoch 83/100\n",
            "7/7 [==============================] - 0s 11ms/step - loss: 0.2962 - accuracy: 0.8687 - val_loss: 1.1976 - val_accuracy: 0.8000\n",
            "Epoch 84/100\n",
            "7/7 [==============================] - 0s 13ms/step - loss: 0.3184 - accuracy: 0.8889 - val_loss: 1.2310 - val_accuracy: 0.8000\n",
            "Epoch 85/100\n",
            "7/7 [==============================] - 0s 11ms/step - loss: 0.2791 - accuracy: 0.8737 - val_loss: 1.2686 - val_accuracy: 0.7800\n",
            "Epoch 86/100\n",
            "7/7 [==============================] - 0s 9ms/step - loss: 0.2600 - accuracy: 0.8990 - val_loss: 1.2883 - val_accuracy: 0.7800\n",
            "Epoch 87/100\n",
            "7/7 [==============================] - 0s 11ms/step - loss: 0.2649 - accuracy: 0.8990 - val_loss: 1.3251 - val_accuracy: 0.7600\n",
            "Epoch 88/100\n",
            "7/7 [==============================] - 0s 11ms/step - loss: 0.2819 - accuracy: 0.8939 - val_loss: 1.3436 - val_accuracy: 0.7600\n",
            "Epoch 89/100\n",
            "7/7 [==============================] - 0s 11ms/step - loss: 0.2873 - accuracy: 0.9141 - val_loss: 1.3384 - val_accuracy: 0.7800\n",
            "Epoch 90/100\n",
            "7/7 [==============================] - 0s 11ms/step - loss: 0.2781 - accuracy: 0.8838 - val_loss: 1.3428 - val_accuracy: 0.7800\n",
            "Epoch 91/100\n",
            "7/7 [==============================] - 0s 9ms/step - loss: 0.2636 - accuracy: 0.9040 - val_loss: 1.3582 - val_accuracy: 0.7800\n",
            "Epoch 92/100\n",
            "7/7 [==============================] - 0s 9ms/step - loss: 0.2172 - accuracy: 0.9091 - val_loss: 1.3103 - val_accuracy: 0.7800\n",
            "Epoch 93/100\n",
            "7/7 [==============================] - 0s 8ms/step - loss: 0.2670 - accuracy: 0.8889 - val_loss: 1.3299 - val_accuracy: 0.7800\n",
            "Epoch 94/100\n",
            "7/7 [==============================] - 0s 10ms/step - loss: 0.2460 - accuracy: 0.9192 - val_loss: 1.3876 - val_accuracy: 0.8000\n",
            "Epoch 95/100\n",
            "7/7 [==============================] - 0s 11ms/step - loss: 0.2897 - accuracy: 0.8737 - val_loss: 1.4028 - val_accuracy: 0.7800\n",
            "Epoch 96/100\n",
            "7/7 [==============================] - 0s 11ms/step - loss: 0.2376 - accuracy: 0.8939 - val_loss: 1.3875 - val_accuracy: 0.7800\n",
            "Epoch 97/100\n",
            "7/7 [==============================] - 0s 9ms/step - loss: 0.2683 - accuracy: 0.8939 - val_loss: 1.3543 - val_accuracy: 0.8000\n",
            "Epoch 98/100\n",
            "7/7 [==============================] - 0s 11ms/step - loss: 0.2968 - accuracy: 0.8788 - val_loss: 1.3328 - val_accuracy: 0.7800\n",
            "Epoch 99/100\n",
            "7/7 [==============================] - 0s 8ms/step - loss: 0.2585 - accuracy: 0.9040 - val_loss: 1.3459 - val_accuracy: 0.7800\n",
            "Epoch 100/100\n",
            "7/7 [==============================] - 0s 11ms/step - loss: 0.2451 - accuracy: 0.8939 - val_loss: 1.3592 - val_accuracy: 0.7800\n"
          ]
        },
        {
          "output_type": "execute_result",
          "data": {
            "text/plain": [
              "<keras.src.callbacks.History at 0x78704d62c6d0>"
            ]
          },
          "metadata": {},
          "execution_count": 8
        }
      ],
      "source": [
        "# Train the model\n",
        "model.fit(X_train_vec,\n",
        "          y_train, epochs=100, validation_split=0.2)"
      ]
    },
    {
      "cell_type": "code",
      "source": [
        "#Evaluasi akurasi\n",
        "test_loss, test_acc = model.evaluate(X_test_vec, y_test)\n",
        "print('Test accuracy:', test_acc)"
      ],
      "metadata": {
        "id": "G6I-DBsbyv9G",
        "colab": {
          "base_uri": "https://localhost:8080/"
        },
        "outputId": "1e3ea2f8-62ed-4561-8a53-1ce4441d7f95"
      },
      "execution_count": 9,
      "outputs": [
        {
          "output_type": "stream",
          "name": "stdout",
          "text": [
            "2/2 [==============================] - 0s 8ms/step - loss: 1.0766 - accuracy: 0.8065\n",
            "Test accuracy: 0.8064516186714172\n"
          ]
        }
      ]
    },
    {
      "cell_type": "code",
      "execution_count": 10,
      "metadata": {
        "id": "g-JWJMWngAuK"
      },
      "outputs": [],
      "source": [
        "#Fungsi untuk merekomendasikan makanan/minuman bedasarkan inputan\n",
        "def recommend_makanan(category, taste):\n",
        "    # Vektorisasi input menggunakan TfidfVectorizer\n",
        "    input_vec = vectorizer.transform([taste]).toarray()\n",
        "\n",
        "    # Prediksi kategori\n",
        "    category_pred = model.predict(input_vec)\n",
        "\n",
        "    # Mendapatkan kategori yang diprediksi\n",
        "    predicted_category = label_encoder.inverse_transform([category_pred.argmax()])[0]\n",
        "\n",
        "    # Filter data berdasarkan kategori yang diprediksi\n",
        "    category_data = makanan_data[makanan_data['kategori'] == category]\n",
        "\n",
        "    # Vektorisasi deskripsi rasa dalam data latih\n",
        "    X_train_category = vectorizer.transform(category_data['deskripsi_rasa']).toarray()\n",
        "\n",
        "    # Hitung similarity scores antara input dan deskripsi makanan dalam data latih\n",
        "    similarity_scores = cosine_similarity(input_vec, X_train_category)\n",
        "\n",
        "    # Dapatkan indeks top 5 makanan yang paling mirip\n",
        "    top_indices = similarity_scores.argsort()[0][-5:][::-1]\n",
        "\n",
        "    # Dapatkan rekomendasi makanan berdasarkan kategori yang diprediksi\n",
        "    recommended_food = category_data.iloc[top_indices]['makanan/minuman'].values\n",
        "\n",
        "    return recommended_food"
      ]
    },
    {
      "cell_type": "markdown",
      "metadata": {
        "id": "n7-qZFM2lvpP"
      },
      "source": [
        "Inputan Dropdown button & free text (for testing)\n",
        "\n",
        "- Dropdown button untuk inputan kategori\n",
        "- Free text untuk inputan deskripsi rasa\n"
      ]
    },
    {
      "cell_type": "code",
      "source": [
        "# Contoh penggunaan\n",
        "category = 'Jajanan'\n",
        "taste = 'asin, gurih, renyah'\n",
        "recommended_food = recommend_makanan(category, taste)\n",
        "\n",
        "print(\"Rekomendasi makanan bedasarkan kategori '{}' dengan rasa '{}':\".format(category, taste))\n",
        "for idx, food in enumerate(recommended_food, 1):\n",
        "    print(\"{}. {}\".format(idx, food))"
      ],
      "metadata": {
        "colab": {
          "base_uri": "https://localhost:8080/"
        },
        "id": "PNFWtw8bUKTK",
        "outputId": "d34702d1-2537-43e8-833c-868357718166"
      },
      "execution_count": 11,
      "outputs": [
        {
          "output_type": "stream",
          "name": "stdout",
          "text": [
            "1/1 [==============================] - 0s 109ms/step\n",
            "Rekomendasi makanan bedasarkan kategori 'Jajanan' dengan rasa 'asin, gurih, renyah':\n",
            "1. Lumpia\n",
            "2. Tempura\n",
            "3. Emping\n",
            "4. kentang Goreng\n",
            "5. Roti Bakar Keju\n"
          ]
        }
      ]
    },
    {
      "cell_type": "code",
      "source": [
        "import ipywidgets as widgets\n",
        "from IPython.display import display, clear_output\n",
        "\n",
        "# Fungsi untuk menangani aksi tombol submit\n",
        "def submit_action(b):\n",
        "    category = category_dropdown.value\n",
        "    taste = taste_input.value\n",
        "    recommended_makanan = recommend_makanan(category, taste)\n",
        "\n",
        "    # Membersihkan output sebelumnya\n",
        "    with output:\n",
        "        clear_output(wait=True)\n",
        "\n",
        "        # Menampilkan hasil rekomendasi makanan\n",
        "        print(f\"Rekomendasi makanan bedasarkan kategori '{category}' dengan rasa '{taste}':\")\n",
        "        for makanan in recommended_makanan:\n",
        "            print(f\"- {makanan}\")\n",
        "\n",
        "\n",
        "# Membuat dropdown untuk kategori\n",
        "category_options = ['Makanan Berat', 'Makanan Ringan', 'Jajanan', 'Minuman']\n",
        "category_dropdown = widgets.Dropdown(\n",
        "    options=category_options,\n",
        "    value=category_options[0],\n",
        "    description='Category:',\n",
        "    disabled=False,\n",
        ")\n",
        "\n",
        "# Membuat kolom input untuk rasa\n",
        "taste_input = widgets.Text(\n",
        "    value='',\n",
        "    placeholder='Enter taste',\n",
        "    description='Taste:',\n",
        "    disabled=False\n",
        ")\n",
        "\n",
        "# Membuat tombol submit\n",
        "submit_button = widgets.Button(\n",
        "    description='Submit',\n",
        "    disabled=False,\n",
        "    button_style='', # 'success', 'info', 'warning', 'danger' or ''\n",
        "    tooltip='Click me',\n",
        "    icon='check' # (FontAwesome names without the `fa-` prefix)\n",
        ")\n",
        "\n",
        "# Membuat widget output untuk menampilkan hasil\n",
        "output = widgets.Output()\n",
        "\n",
        "# Menambahkan event handler untuk tombol submit\n",
        "submit_button.on_click(submit_action)\n",
        "\n",
        "# Menampilkan dropdown kategori, kolom input rasa, dan tombol submit\n",
        "display(category_dropdown, taste_input, submit_button, output)"
      ],
      "metadata": {
        "colab": {
          "base_uri": "https://localhost:8080/",
          "height": 112,
          "referenced_widgets": [
            "32e6301933294a3496892e309167f1f8",
            "10f1531e4e28401a8a7fb709808c49a0",
            "e6238555f2214202b986983f49f87411",
            "80a507659a8d44389b8948009d8d7d5c",
            "fb964bb921fd47479e5b0e43e2891bb8",
            "2b72dfcce9984ad090104d0a1c0fe05c",
            "175131afb7824d7f85c7caa6f169ddcd",
            "a447907313d3409b84933350b0de6f0c",
            "8a6f12eafe60451cb314bbff9e8b2d5a",
            "706afc509a554c69939ff1425e3d9a87",
            "d2fb2196a0794631b22c14f674028eb5"
          ]
        },
        "id": "WvK1Q3oRGN2O",
        "outputId": "8501488f-d916-40e0-b91c-35f17dfea554"
      },
      "execution_count": 12,
      "outputs": [
        {
          "output_type": "display_data",
          "data": {
            "text/plain": [
              "Dropdown(description='Category:', options=('Makanan Berat', 'Makanan Ringan', 'Jajanan', 'Minuman'), value='Ma…"
            ],
            "application/vnd.jupyter.widget-view+json": {
              "version_major": 2,
              "version_minor": 0,
              "model_id": "32e6301933294a3496892e309167f1f8"
            }
          },
          "metadata": {}
        },
        {
          "output_type": "display_data",
          "data": {
            "text/plain": [
              "Text(value='', description='Taste:', placeholder='Enter taste')"
            ],
            "application/vnd.jupyter.widget-view+json": {
              "version_major": 2,
              "version_minor": 0,
              "model_id": "80a507659a8d44389b8948009d8d7d5c"
            }
          },
          "metadata": {}
        },
        {
          "output_type": "display_data",
          "data": {
            "text/plain": [
              "Button(description='Submit', icon='check', style=ButtonStyle(), tooltip='Click me')"
            ],
            "application/vnd.jupyter.widget-view+json": {
              "version_major": 2,
              "version_minor": 0,
              "model_id": "175131afb7824d7f85c7caa6f169ddcd"
            }
          },
          "metadata": {}
        },
        {
          "output_type": "display_data",
          "data": {
            "text/plain": [
              "Output()"
            ],
            "application/vnd.jupyter.widget-view+json": {
              "version_major": 2,
              "version_minor": 0,
              "model_id": "706afc509a554c69939ff1425e3d9a87"
            }
          },
          "metadata": {}
        }
      ]
    },
    {
      "cell_type": "markdown",
      "metadata": {
        "id": "vR4PVXZEGWCk"
      },
      "source": [
        "#Rekomendasi restoran bedasarkan makanan yang dipilih"
      ]
    },
    {
      "cell_type": "code",
      "execution_count": 13,
      "metadata": {
        "id": "ML6nYQYDGDXM"
      },
      "outputs": [],
      "source": [
        "makanan_data['Features'] = makanan_data['makanan/minuman']\n",
        "\n",
        "# Encode data teks menggunakan TF-IDF\n",
        "tfidf = TfidfVectorizer()\n",
        "tfidf_matrix_mamin= tfidf.fit_transform(makanan_data['Features'])"
      ]
    },
    {
      "cell_type": "markdown",
      "metadata": {
        "id": "LgUbZGiVnVmv"
      },
      "source": [
        "Cosine Similarity"
      ]
    },
    {
      "cell_type": "code",
      "execution_count": 14,
      "metadata": {
        "collapsed": true,
        "id": "-_NE9H4WnP3M",
        "colab": {
          "base_uri": "https://localhost:8080/"
        },
        "outputId": "25e5db80-6681-43b3-ceb2-fbdc79068d54"
      },
      "outputs": [
        {
          "output_type": "stream",
          "name": "stderr",
          "text": [
            "<ipython-input-14-6d2ef7f6225e>:2: SettingWithCopyWarning: \n",
            "A value is trying to be set on a copy of a slice from a DataFrame\n",
            "\n",
            "See the caveats in the documentation: https://pandas.pydata.org/pandas-docs/stable/user_guide/indexing.html#returning-a-view-versus-a-copy\n",
            "  restoran_data['variasi_makanan'].fillna('', inplace=True)\n"
          ]
        }
      ],
      "source": [
        "# Menangani nilai NaN dalam kolom 'variasi_makanan'\n",
        "restoran_data['variasi_makanan'].fillna('', inplace=True)\n",
        "\n",
        "# matrix TF-IDF untuk data restoran\n",
        "tfidf_matrix_restaurant = tfidf.transform(restoran_data['variasi_makanan'])\n",
        "\n",
        "# Menghitung cosine similarity antara matriks TF-IDF makanan dan restoran\n",
        "cosine_sim = cosine_similarity(tfidf_matrix_mamin, tfidf_matrix_restaurant)\n",
        "\n",
        "# Fungsi untuk merekomendasikan restoran bedasarkan makanan yang dipilih\n",
        "def recommend_restaurants_for_food_containing_keyword(keyword, cosine_sim, makanan_data, restoran_data):\n",
        "    # Menemukan indeks makanan yang mengandung kata kunci\n",
        "    food_indices = makanan_data[makanan_data['makanan/minuman'].str.contains(keyword, case=False, na=False)].index.tolist()\n",
        "\n",
        "    # Daftar restoran yang direkomendasikan dengan skor cosine similarity\n",
        "    recommended_restaurants_with_scores = []\n",
        "\n",
        "    for food_index in food_indices:\n",
        "        # Hitung dan urutkan skor cosine similarity untuk setiap makanan\n",
        "        sim_scores = list(enumerate(cosine_sim[food_index]))\n",
        "        sim_scores = sorted(sim_scores, key=lambda x: x[1], reverse=True)\n",
        "\n",
        "        # Mendapatkan 5 restoran teratas yang paling mirip dengan skor cosine similarity untuk setiap makanan\n",
        "        top_similar_restaurants = sim_scores[:5]\n",
        "\n",
        "        for idx, score in top_similar_restaurants:\n",
        "            recommended_restaurants_with_scores.append((restoran_data.iloc[idx]['nama_restoran'],\n",
        "                                                        score, makanan_data.iloc[food_index]['makanan/minuman']))\n",
        "\n",
        "    # Mengurutkan daftar akhir bedasarkan skor cosine similarity\n",
        "    recommended_restaurants_with_scores.sort(key=lambda x: x[1], reverse=True)\n",
        "\n",
        "    # Mendapatkan rekomendasi unik untuk menghindari adanya duplikasi\n",
        "    unique_recommendations = []\n",
        "    seen_restaurants = set()\n",
        "    for rec in recommended_restaurants_with_scores:\n",
        "        if rec[0] not in seen_restaurants:\n",
        "            seen_restaurants.add(rec[0])\n",
        "            unique_recommendations.append(rec)\n",
        "\n",
        "    return unique_recommendations[:5]"
      ]
    },
    {
      "cell_type": "markdown",
      "source": [
        "Inputan makanan yang dipilih"
      ],
      "metadata": {
        "id": "7ve49Ba8ZpfX"
      }
    },
    {
      "cell_type": "code",
      "execution_count": 15,
      "metadata": {
        "id": "DsF5Ci72niZn",
        "colab": {
          "base_uri": "https://localhost:8080/"
        },
        "outputId": "784fcfe1-6305-4a67-8a48-5ff99a934ea9"
      },
      "outputs": [
        {
          "output_type": "stream",
          "name": "stdout",
          "text": [
            "Rekomendasi restoran yang menyediakan makanan/minuman yang memiliki menu 'kue adrem' :\n",
            "- Lupis Mbah Satinem  menyediakan Kue Adrem \n",
            "- Kipo Bu Djito ꦏꦶꦥꦺꦴꦧꦸꦣ꧀ꦗꦶꦠꦺꦴ menyediakan Kue Adrem \n",
            "- Panada & Puding RoBin menyediakan Kue Adrem \n",
            "- Kue Bandung & Pukis Ko Ayung Kotabaru menyediakan Kue Adrem \n",
            "- Lapis Legit Langgeng Sari menyediakan Kue Adrem \n"
          ]
        }
      ],
      "source": [
        "# Memilih makanan\n",
        "selected_food = 'kue adrem'\n",
        "\n",
        "# Merekomendasikan restoran\n",
        "recommended_restaurants_with_scores = recommend_restaurants_for_food_containing_keyword(selected_food, cosine_sim, makanan_data, restoran_data)\n",
        "\n",
        "print(f\"Rekomendasi restoran yang menyediakan makanan/minuman yang memiliki menu '{selected_food}' :\")\n",
        "for nama_restoran, score, variasi_makanan in recommended_restaurants_with_scores:\n",
        "    print(f\"- {nama_restoran} menyediakan {variasi_makanan}\")"
      ]
    },
    {
      "cell_type": "code",
      "source": [
        "model.save('modelrecom.h5')"
      ],
      "metadata": {
        "id": "MOL_67V3YqBW",
        "colab": {
          "base_uri": "https://localhost:8080/"
        },
        "outputId": "292138da-50a9-40a9-f432-30428338b6d5"
      },
      "execution_count": 16,
      "outputs": [
        {
          "output_type": "stream",
          "name": "stderr",
          "text": [
            "/usr/local/lib/python3.10/dist-packages/keras/src/engine/training.py:3103: UserWarning: You are saving your model as an HDF5 file via `model.save()`. This file format is considered legacy. We recommend using instead the native Keras format, e.g. `model.save('my_model.keras')`.\n",
            "  saving_api.save_model(\n"
          ]
        }
      ]
    },
    {
      "cell_type": "code",
      "source": [
        "# Simpan file .pkl\n",
        "\n",
        "import pickle\n",
        "with open('modelrecom.pkl','wb') as file:\n",
        "  pickle.dump(model, file)"
      ],
      "metadata": {
        "id": "Gp_-7jG_hCnk"
      },
      "execution_count": 17,
      "outputs": []
    }
  ],
  "metadata": {
    "colab": {
      "provenance": []
    },
    "kernelspec": {
      "display_name": "Python 3",
      "name": "python3"
    },
    "language_info": {
      "name": "python"
    },
    "widgets": {
      "application/vnd.jupyter.widget-state+json": {
        "32e6301933294a3496892e309167f1f8": {
          "model_module": "@jupyter-widgets/controls",
          "model_name": "DropdownModel",
          "model_module_version": "1.5.0",
          "state": {
            "_dom_classes": [],
            "_model_module": "@jupyter-widgets/controls",
            "_model_module_version": "1.5.0",
            "_model_name": "DropdownModel",
            "_options_labels": [
              "Makanan Berat",
              "Makanan Ringan",
              "Jajanan",
              "Minuman"
            ],
            "_view_count": null,
            "_view_module": "@jupyter-widgets/controls",
            "_view_module_version": "1.5.0",
            "_view_name": "DropdownView",
            "description": "Category:",
            "description_tooltip": null,
            "disabled": false,
            "index": 0,
            "layout": "IPY_MODEL_10f1531e4e28401a8a7fb709808c49a0",
            "style": "IPY_MODEL_e6238555f2214202b986983f49f87411"
          }
        },
        "10f1531e4e28401a8a7fb709808c49a0": {
          "model_module": "@jupyter-widgets/base",
          "model_name": "LayoutModel",
          "model_module_version": "1.2.0",
          "state": {
            "_model_module": "@jupyter-widgets/base",
            "_model_module_version": "1.2.0",
            "_model_name": "LayoutModel",
            "_view_count": null,
            "_view_module": "@jupyter-widgets/base",
            "_view_module_version": "1.2.0",
            "_view_name": "LayoutView",
            "align_content": null,
            "align_items": null,
            "align_self": null,
            "border": null,
            "bottom": null,
            "display": null,
            "flex": null,
            "flex_flow": null,
            "grid_area": null,
            "grid_auto_columns": null,
            "grid_auto_flow": null,
            "grid_auto_rows": null,
            "grid_column": null,
            "grid_gap": null,
            "grid_row": null,
            "grid_template_areas": null,
            "grid_template_columns": null,
            "grid_template_rows": null,
            "height": null,
            "justify_content": null,
            "justify_items": null,
            "left": null,
            "margin": null,
            "max_height": null,
            "max_width": null,
            "min_height": null,
            "min_width": null,
            "object_fit": null,
            "object_position": null,
            "order": null,
            "overflow": null,
            "overflow_x": null,
            "overflow_y": null,
            "padding": null,
            "right": null,
            "top": null,
            "visibility": null,
            "width": null
          }
        },
        "e6238555f2214202b986983f49f87411": {
          "model_module": "@jupyter-widgets/controls",
          "model_name": "DescriptionStyleModel",
          "model_module_version": "1.5.0",
          "state": {
            "_model_module": "@jupyter-widgets/controls",
            "_model_module_version": "1.5.0",
            "_model_name": "DescriptionStyleModel",
            "_view_count": null,
            "_view_module": "@jupyter-widgets/base",
            "_view_module_version": "1.2.0",
            "_view_name": "StyleView",
            "description_width": ""
          }
        },
        "80a507659a8d44389b8948009d8d7d5c": {
          "model_module": "@jupyter-widgets/controls",
          "model_name": "TextModel",
          "model_module_version": "1.5.0",
          "state": {
            "_dom_classes": [],
            "_model_module": "@jupyter-widgets/controls",
            "_model_module_version": "1.5.0",
            "_model_name": "TextModel",
            "_view_count": null,
            "_view_module": "@jupyter-widgets/controls",
            "_view_module_version": "1.5.0",
            "_view_name": "TextView",
            "continuous_update": true,
            "description": "Taste:",
            "description_tooltip": null,
            "disabled": false,
            "layout": "IPY_MODEL_fb964bb921fd47479e5b0e43e2891bb8",
            "placeholder": "Enter taste",
            "style": "IPY_MODEL_2b72dfcce9984ad090104d0a1c0fe05c",
            "value": ""
          }
        },
        "fb964bb921fd47479e5b0e43e2891bb8": {
          "model_module": "@jupyter-widgets/base",
          "model_name": "LayoutModel",
          "model_module_version": "1.2.0",
          "state": {
            "_model_module": "@jupyter-widgets/base",
            "_model_module_version": "1.2.0",
            "_model_name": "LayoutModel",
            "_view_count": null,
            "_view_module": "@jupyter-widgets/base",
            "_view_module_version": "1.2.0",
            "_view_name": "LayoutView",
            "align_content": null,
            "align_items": null,
            "align_self": null,
            "border": null,
            "bottom": null,
            "display": null,
            "flex": null,
            "flex_flow": null,
            "grid_area": null,
            "grid_auto_columns": null,
            "grid_auto_flow": null,
            "grid_auto_rows": null,
            "grid_column": null,
            "grid_gap": null,
            "grid_row": null,
            "grid_template_areas": null,
            "grid_template_columns": null,
            "grid_template_rows": null,
            "height": null,
            "justify_content": null,
            "justify_items": null,
            "left": null,
            "margin": null,
            "max_height": null,
            "max_width": null,
            "min_height": null,
            "min_width": null,
            "object_fit": null,
            "object_position": null,
            "order": null,
            "overflow": null,
            "overflow_x": null,
            "overflow_y": null,
            "padding": null,
            "right": null,
            "top": null,
            "visibility": null,
            "width": null
          }
        },
        "2b72dfcce9984ad090104d0a1c0fe05c": {
          "model_module": "@jupyter-widgets/controls",
          "model_name": "DescriptionStyleModel",
          "model_module_version": "1.5.0",
          "state": {
            "_model_module": "@jupyter-widgets/controls",
            "_model_module_version": "1.5.0",
            "_model_name": "DescriptionStyleModel",
            "_view_count": null,
            "_view_module": "@jupyter-widgets/base",
            "_view_module_version": "1.2.0",
            "_view_name": "StyleView",
            "description_width": ""
          }
        },
        "175131afb7824d7f85c7caa6f169ddcd": {
          "model_module": "@jupyter-widgets/controls",
          "model_name": "ButtonModel",
          "model_module_version": "1.5.0",
          "state": {
            "_dom_classes": [],
            "_model_module": "@jupyter-widgets/controls",
            "_model_module_version": "1.5.0",
            "_model_name": "ButtonModel",
            "_view_count": null,
            "_view_module": "@jupyter-widgets/controls",
            "_view_module_version": "1.5.0",
            "_view_name": "ButtonView",
            "button_style": "",
            "description": "Submit",
            "disabled": false,
            "icon": "check",
            "layout": "IPY_MODEL_a447907313d3409b84933350b0de6f0c",
            "style": "IPY_MODEL_8a6f12eafe60451cb314bbff9e8b2d5a",
            "tooltip": "Click me"
          }
        },
        "a447907313d3409b84933350b0de6f0c": {
          "model_module": "@jupyter-widgets/base",
          "model_name": "LayoutModel",
          "model_module_version": "1.2.0",
          "state": {
            "_model_module": "@jupyter-widgets/base",
            "_model_module_version": "1.2.0",
            "_model_name": "LayoutModel",
            "_view_count": null,
            "_view_module": "@jupyter-widgets/base",
            "_view_module_version": "1.2.0",
            "_view_name": "LayoutView",
            "align_content": null,
            "align_items": null,
            "align_self": null,
            "border": null,
            "bottom": null,
            "display": null,
            "flex": null,
            "flex_flow": null,
            "grid_area": null,
            "grid_auto_columns": null,
            "grid_auto_flow": null,
            "grid_auto_rows": null,
            "grid_column": null,
            "grid_gap": null,
            "grid_row": null,
            "grid_template_areas": null,
            "grid_template_columns": null,
            "grid_template_rows": null,
            "height": null,
            "justify_content": null,
            "justify_items": null,
            "left": null,
            "margin": null,
            "max_height": null,
            "max_width": null,
            "min_height": null,
            "min_width": null,
            "object_fit": null,
            "object_position": null,
            "order": null,
            "overflow": null,
            "overflow_x": null,
            "overflow_y": null,
            "padding": null,
            "right": null,
            "top": null,
            "visibility": null,
            "width": null
          }
        },
        "8a6f12eafe60451cb314bbff9e8b2d5a": {
          "model_module": "@jupyter-widgets/controls",
          "model_name": "ButtonStyleModel",
          "model_module_version": "1.5.0",
          "state": {
            "_model_module": "@jupyter-widgets/controls",
            "_model_module_version": "1.5.0",
            "_model_name": "ButtonStyleModel",
            "_view_count": null,
            "_view_module": "@jupyter-widgets/base",
            "_view_module_version": "1.2.0",
            "_view_name": "StyleView",
            "button_color": null,
            "font_weight": ""
          }
        },
        "706afc509a554c69939ff1425e3d9a87": {
          "model_module": "@jupyter-widgets/output",
          "model_name": "OutputModel",
          "model_module_version": "1.0.0",
          "state": {
            "_dom_classes": [],
            "_model_module": "@jupyter-widgets/output",
            "_model_module_version": "1.0.0",
            "_model_name": "OutputModel",
            "_view_count": null,
            "_view_module": "@jupyter-widgets/output",
            "_view_module_version": "1.0.0",
            "_view_name": "OutputView",
            "layout": "IPY_MODEL_d2fb2196a0794631b22c14f674028eb5",
            "msg_id": "",
            "outputs": []
          }
        },
        "d2fb2196a0794631b22c14f674028eb5": {
          "model_module": "@jupyter-widgets/base",
          "model_name": "LayoutModel",
          "model_module_version": "1.2.0",
          "state": {
            "_model_module": "@jupyter-widgets/base",
            "_model_module_version": "1.2.0",
            "_model_name": "LayoutModel",
            "_view_count": null,
            "_view_module": "@jupyter-widgets/base",
            "_view_module_version": "1.2.0",
            "_view_name": "LayoutView",
            "align_content": null,
            "align_items": null,
            "align_self": null,
            "border": null,
            "bottom": null,
            "display": null,
            "flex": null,
            "flex_flow": null,
            "grid_area": null,
            "grid_auto_columns": null,
            "grid_auto_flow": null,
            "grid_auto_rows": null,
            "grid_column": null,
            "grid_gap": null,
            "grid_row": null,
            "grid_template_areas": null,
            "grid_template_columns": null,
            "grid_template_rows": null,
            "height": null,
            "justify_content": null,
            "justify_items": null,
            "left": null,
            "margin": null,
            "max_height": null,
            "max_width": null,
            "min_height": null,
            "min_width": null,
            "object_fit": null,
            "object_position": null,
            "order": null,
            "overflow": null,
            "overflow_x": null,
            "overflow_y": null,
            "padding": null,
            "right": null,
            "top": null,
            "visibility": null,
            "width": null
          }
        }
      }
    }
  },
  "nbformat": 4,
  "nbformat_minor": 0
}